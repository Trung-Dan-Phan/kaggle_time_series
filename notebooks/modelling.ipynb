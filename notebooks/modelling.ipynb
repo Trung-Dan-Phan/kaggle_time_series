{
 "cells": [
  {
   "cell_type": "code",
   "execution_count": null,
   "metadata": {},
   "outputs": [],
   "source": [
    "# Import libraries\n",
    "import pandas as pd\n",
    "import seaborn as sns\n",
    "import numpy as np\n",
    "from sklearn.impute import SimpleImputer\n",
    "from sklearn.preprocessing import StandardScaler\n",
    "from meteostat import Point, Daily\n",
    "\n",
    "# Set plot style\n",
    "sns.set(style=\"whitegrid\")\n",
    "import warnings\n",
    "warnings.filterwarnings('ignore')"
   ]
  },
  {
   "cell_type": "code",
   "execution_count": null,
   "metadata": {},
   "outputs": [],
   "source": [
    "# Load Data\n",
    "train_processed_df = pd.read_csv('../data/train_processed_df.csv')\n",
    "test_df = pd.read_csv('../data/test.csv')"
   ]
  },
  {
   "cell_type": "markdown",
   "metadata": {},
   "source": [
    "### 3. Modeling\n",
    "\n",
    "#### Baseline Model\n",
    "- [ ] **Baseline (Naive) Model**: Implement a simple baseline model, such as predicting the last known value or average to set a benchmark for evaluation.\n",
    "\n",
    "#### Model Selection and Training\n",
    "- [ ] **ARIMA / Exponential Smoothing**\n",
    "- [ ] **LSTM/GRU**\n",
    "- [ ] **Other Deep Learning**\n",
    "\n",
    "#### Hyperparameter Tuning\n",
    "- [ ] **Grid/Random Search**: Perform hyperparameter tuning using time-series cross-validation ().\n",
    "\n",
    "#### Model Evaluation\n",
    "- [ ] **Define Evaluation Metrics**: MAE\n",
    "- [ ] **Evaluate on Validation Set**: Assess each model’s performance on the validation set and compare it with the baseline.\n",
    "- [ ] **Residual Analysis**: Plot and analyze residuals to check for patterns or biases.\n",
    "\n",
    "#### Forecasting\n",
    "- [ ] **Make Predictions**: Generate predictions for the future time points provided in `test.csv`."
   ]
  },
  {
   "cell_type": "code",
   "execution_count": null,
   "metadata": {},
   "outputs": [],
   "source": []
  }
 ],
 "metadata": {
  "kernelspec": {
   "display_name": "myenv",
   "language": "python",
   "name": "python3"
  },
  "language_info": {
   "name": "python",
   "version": "3.10.15"
  }
 },
 "nbformat": 4,
 "nbformat_minor": 2
}
