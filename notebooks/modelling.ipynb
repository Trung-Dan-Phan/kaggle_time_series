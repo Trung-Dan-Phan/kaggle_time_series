{
 "cells": [
  {
   "cell_type": "code",
   "execution_count": 1,
   "metadata": {},
   "outputs": [],
   "source": [
    "# Import libraries\n",
    "import pandas as pd\n",
    "from sklearn.metrics import mean_absolute_error\n",
    "from statsmodels.tsa.arima.model import ARIMA\n",
    "from sklearn.model_selection import TimeSeriesSplit\n",
    "import numpy as np\n",
    "import seaborn as sns\n",
    "\n",
    "# Set plot style\n",
    "sns.set(style=\"whitegrid\")\n",
    "import warnings\n",
    "warnings.filterwarnings('ignore')"
   ]
  },
  {
   "cell_type": "code",
   "execution_count": 2,
   "metadata": {},
   "outputs": [],
   "source": [
    "# Load Data\n",
    "train = pd.read_csv('../data/train.csv', index_col='id', parse_dates=True)\n",
    "test = pd.read_csv('../data/test.csv', index_col='id', parse_dates=True)"
   ]
  },
  {
   "cell_type": "markdown",
   "metadata": {},
   "source": [
    "### 3. Modeling\n",
    "\n",
    "#### Baseline Model\n",
    "- [ ] **Baseline (Naive) Model**: Implement a simple baseline model, such as predicting the last known value or average to set a benchmark for evaluation.\n",
    "\n",
    "#### Model Selection and Training\n",
    "- [ ] **ARIMA / Exponential Smoothing**\n",
    "- [ ] **LSTM/GRU**\n",
    "- [ ] **Other Deep Learning**\n",
    "\n",
    "#### Hyperparameter Tuning\n",
    "- [ ] **Grid/Random Search**: Perform hyperparameter tuning using time-series cross-validation ().\n",
    "\n",
    "#### Model Evaluation\n",
    "- [ ] **Define Evaluation Metrics**: MAE\n",
    "- [ ] **Evaluate on Validation Set**: Assess each model’s performance on the validation set and compare it with the baseline.\n",
    "- [ ] **Residual Analysis**: Plot and analyze residuals to check for patterns or biases.\n",
    "\n",
    "#### Forecasting\n",
    "- [ ] **Make Predictions**: Generate predictions for the future time points provided in `test.csv`."
   ]
  },
  {
   "cell_type": "code",
   "execution_count": 3,
   "metadata": {},
   "outputs": [],
   "source": [
    "pollutants = ['valeur_NO2', 'valeur_CO', 'valeur_O3', 'valeur_PM10', 'valeur_PM25']"
   ]
  },
  {
   "cell_type": "code",
   "execution_count": 4,
   "metadata": {},
   "outputs": [],
   "source": [
    "submission = pd.DataFrame(test.index, columns=['id'])\n",
    "submission['id'] = submission['id'].dt.strftime('%Y-%m-%d %H')"
   ]
  },
  {
   "cell_type": "code",
   "execution_count": 5,
   "metadata": {},
   "outputs": [],
   "source": [
    "for pollutant in pollutants:\n",
    "    submission[pollutant] = 0.0"
   ]
  },
  {
   "cell_type": "code",
   "execution_count": 7,
   "metadata": {},
   "outputs": [],
   "source": [
    "def train_and_evaluate(train_data, pollutant, n_splits=5):\n",
    "    tscv = TimeSeriesSplit(n_splits=n_splits)\n",
    "    maes = []\n",
    "    \n",
    "    for train_idx, val_idx in tscv.split(train_data):\n",
    "        train_fold, val_fold = train_data.iloc[train_idx], train_data.iloc[val_idx]\n",
    "        \n",
    "        # Fit ARIMA model (adjust order based on initial analysis)\n",
    "        model = ARIMA(train_fold[pollutant], order=(1, 1, 1))\n",
    "        model_fit = model.fit()\n",
    "        \n",
    "        # Predict on validation set\n",
    "        val_pred = model_fit.predict(start=val_fold.index[0], end=val_fold.index[-1])\n",
    "        \n",
    "        # Calculate MAE for the fold\n",
    "        mae = mean_absolute_error(val_fold[pollutant], val_pred)\n",
    "        maes.append(mae)\n",
    "    \n",
    "    return np.mean(maes)"
   ]
  },
  {
   "cell_type": "code",
   "execution_count": 8,
   "metadata": {},
   "outputs": [
    {
     "name": "stdout",
     "output_type": "stream",
     "text": [
      "Training model for valeur_NO2...\n",
      "Cross-validated MAE for valeur_NO2: 12.525199946955812\n",
      "Training model for valeur_CO...\n",
      "Cross-validated MAE for valeur_CO: 0.05586427821321005\n",
      "Training model for valeur_O3...\n",
      "Cross-validated MAE for valeur_O3: 35.59010791092384\n",
      "Training model for valeur_PM10...\n",
      "Cross-validated MAE for valeur_PM10: 12.60774234744063\n",
      "Training model for valeur_PM25...\n",
      "Cross-validated MAE for valeur_PM25: 7.441696901953859\n"
     ]
    }
   ],
   "source": [
    "# Train, evaluate, and predict for each pollutant\n",
    "\n",
    "for pollutant in pollutants:\n",
    "    print(f\"Training model for {pollutant}...\")\n",
    "    cv_mae = train_and_evaluate(train, pollutant)\n",
    "    print(f\"Cross-validated MAE for {pollutant}: {cv_mae}\")\n",
    "\n",
    "    # Train final model on all training data for test prediction\n",
    "    model = ARIMA(train[pollutant]), order=(1, 1, 1))\n",
    "    model_fit = model.fit()\n",
    "    predictions = model_fit.predict(start=test.index[0], end=test.index[-1])\n",
    "\n",
    "    submission[pollutant] = predictions.values\n",
    "    "
   ]
  },
  {
   "cell_type": "code",
   "execution_count": 10,
   "metadata": {},
   "outputs": [],
   "source": [
    "submission.to_csv('/Users/smesguiche/Desktop/submission.csv', index=False)\n"
   ]
  },
  {
   "cell_type": "code",
   "execution_count": 9,
   "metadata": {},
   "outputs": [
    {
     "data": {
      "text/html": [
       "<div>\n",
       "<style scoped>\n",
       "    .dataframe tbody tr th:only-of-type {\n",
       "        vertical-align: middle;\n",
       "    }\n",
       "\n",
       "    .dataframe tbody tr th {\n",
       "        vertical-align: top;\n",
       "    }\n",
       "\n",
       "    .dataframe thead th {\n",
       "        text-align: right;\n",
       "    }\n",
       "</style>\n",
       "<table border=\"1\" class=\"dataframe\">\n",
       "  <thead>\n",
       "    <tr style=\"text-align: right;\">\n",
       "      <th></th>\n",
       "      <th>id</th>\n",
       "      <th>valeur_NO2</th>\n",
       "      <th>valeur_CO</th>\n",
       "      <th>valeur_O3</th>\n",
       "      <th>valeur_PM10</th>\n",
       "      <th>valeur_PM25</th>\n",
       "    </tr>\n",
       "  </thead>\n",
       "  <tbody>\n",
       "    <tr>\n",
       "      <th>0</th>\n",
       "      <td>2024-09-03 23</td>\n",
       "      <td>17.6</td>\n",
       "      <td>0.184364</td>\n",
       "      <td>42.794022</td>\n",
       "      <td>9.184447</td>\n",
       "      <td>4.556043</td>\n",
       "    </tr>\n",
       "    <tr>\n",
       "      <th>1</th>\n",
       "      <td>2024-09-04 00</td>\n",
       "      <td>17.6</td>\n",
       "      <td>0.184626</td>\n",
       "      <td>44.767295</td>\n",
       "      <td>9.793872</td>\n",
       "      <td>4.563498</td>\n",
       "    </tr>\n",
       "    <tr>\n",
       "      <th>2</th>\n",
       "      <td>2024-09-04 01</td>\n",
       "      <td>17.6</td>\n",
       "      <td>0.184814</td>\n",
       "      <td>45.531681</td>\n",
       "      <td>10.336498</td>\n",
       "      <td>4.562233</td>\n",
       "    </tr>\n",
       "    <tr>\n",
       "      <th>3</th>\n",
       "      <td>2024-09-04 02</td>\n",
       "      <td>17.6</td>\n",
       "      <td>0.184950</td>\n",
       "      <td>45.827782</td>\n",
       "      <td>10.819648</td>\n",
       "      <td>4.562448</td>\n",
       "    </tr>\n",
       "    <tr>\n",
       "      <th>4</th>\n",
       "      <td>2024-09-04 03</td>\n",
       "      <td>17.6</td>\n",
       "      <td>0.185048</td>\n",
       "      <td>45.942483</td>\n",
       "      <td>11.249840</td>\n",
       "      <td>4.562411</td>\n",
       "    </tr>\n",
       "    <tr>\n",
       "      <th>...</th>\n",
       "      <td>...</td>\n",
       "      <td>...</td>\n",
       "      <td>...</td>\n",
       "      <td>...</td>\n",
       "      <td>...</td>\n",
       "      <td>...</td>\n",
       "    </tr>\n",
       "    <tr>\n",
       "      <th>499</th>\n",
       "      <td>2024-09-24 18</td>\n",
       "      <td>17.6</td>\n",
       "      <td>0.185301</td>\n",
       "      <td>46.015009</td>\n",
       "      <td>14.744424</td>\n",
       "      <td>4.562417</td>\n",
       "    </tr>\n",
       "    <tr>\n",
       "      <th>500</th>\n",
       "      <td>2024-09-24 19</td>\n",
       "      <td>17.6</td>\n",
       "      <td>0.185301</td>\n",
       "      <td>46.015009</td>\n",
       "      <td>14.744424</td>\n",
       "      <td>4.562417</td>\n",
       "    </tr>\n",
       "    <tr>\n",
       "      <th>501</th>\n",
       "      <td>2024-09-24 20</td>\n",
       "      <td>17.6</td>\n",
       "      <td>0.185301</td>\n",
       "      <td>46.015009</td>\n",
       "      <td>14.744424</td>\n",
       "      <td>4.562417</td>\n",
       "    </tr>\n",
       "    <tr>\n",
       "      <th>502</th>\n",
       "      <td>2024-09-24 21</td>\n",
       "      <td>17.6</td>\n",
       "      <td>0.185301</td>\n",
       "      <td>46.015009</td>\n",
       "      <td>14.744424</td>\n",
       "      <td>4.562417</td>\n",
       "    </tr>\n",
       "    <tr>\n",
       "      <th>503</th>\n",
       "      <td>2024-09-24 22</td>\n",
       "      <td>17.6</td>\n",
       "      <td>0.185301</td>\n",
       "      <td>46.015009</td>\n",
       "      <td>14.744424</td>\n",
       "      <td>4.562417</td>\n",
       "    </tr>\n",
       "  </tbody>\n",
       "</table>\n",
       "<p>504 rows × 6 columns</p>\n",
       "</div>"
      ],
      "text/plain": [
       "                id  valeur_NO2  valeur_CO  valeur_O3  valeur_PM10  valeur_PM25\n",
       "0    2024-09-03 23        17.6   0.184364  42.794022     9.184447     4.556043\n",
       "1    2024-09-04 00        17.6   0.184626  44.767295     9.793872     4.563498\n",
       "2    2024-09-04 01        17.6   0.184814  45.531681    10.336498     4.562233\n",
       "3    2024-09-04 02        17.6   0.184950  45.827782    10.819648     4.562448\n",
       "4    2024-09-04 03        17.6   0.185048  45.942483    11.249840     4.562411\n",
       "..             ...         ...        ...        ...          ...          ...\n",
       "499  2024-09-24 18        17.6   0.185301  46.015009    14.744424     4.562417\n",
       "500  2024-09-24 19        17.6   0.185301  46.015009    14.744424     4.562417\n",
       "501  2024-09-24 20        17.6   0.185301  46.015009    14.744424     4.562417\n",
       "502  2024-09-24 21        17.6   0.185301  46.015009    14.744424     4.562417\n",
       "503  2024-09-24 22        17.6   0.185301  46.015009    14.744424     4.562417\n",
       "\n",
       "[504 rows x 6 columns]"
      ]
     },
     "execution_count": 9,
     "metadata": {},
     "output_type": "execute_result"
    }
   ],
   "source": [
    "submission"
   ]
  },
  {
   "cell_type": "code",
   "execution_count": null,
   "metadata": {},
   "outputs": [],
   "source": []
  }
 ],
 "metadata": {
  "kernelspec": {
   "display_name": "base",
   "language": "python",
   "name": "python3"
  },
  "language_info": {
   "codemirror_mode": {
    "name": "ipython",
    "version": 3
   },
   "file_extension": ".py",
   "mimetype": "text/x-python",
   "name": "python",
   "nbconvert_exporter": "python",
   "pygments_lexer": "ipython3",
   "version": "3.11.5"
  }
 },
 "nbformat": 4,
 "nbformat_minor": 2
}
